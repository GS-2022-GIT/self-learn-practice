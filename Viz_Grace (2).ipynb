{
 "cells": [
  {
   "cell_type": "code",
   "execution_count": 1,
   "id": "f939217e",
   "metadata": {},
   "outputs": [],
   "source": [
    "import pandas as pd\n",
    "import numpy as np\n",
    "import matplotlib.pyplot as plt\n",
    "import seaborn as sns\n",
    "import plotly.express as px\n",
    "import plotly.graph_objects as go\n",
    "%matplotlib inline"
   ]
  },
  {
   "cell_type": "code",
   "execution_count": 2,
   "id": "bb5ca513",
   "metadata": {},
   "outputs": [],
   "source": [
    "data = pd.read_csv('all_data.csv', index_col = 0)"
   ]
  },
  {
   "cell_type": "code",
   "execution_count": 3,
   "id": "a81a6c84",
   "metadata": {},
   "outputs": [],
   "source": [
    "#grouping income and broadband usage\n",
    "data['Median Income Group']= pd.cut(data['Median Income'], \n",
    "                                        bins=[39000,50000,65000,80000,120000], \n",
    "                                        labels=['Very Low','Low','Moderate','High'])\n",
    "data['Broadband Speed Category'] = pd.cut(data['BROADBAND USAGE'], \n",
    "                                        bins=[0,20,40,60,80], \n",
    "                                        labels=['Very Low','Low', 'Moderate', 'High'])"
   ]
  },
  {
   "cell_type": "code",
   "execution_count": 4,
   "id": "4b5ab8bf",
   "metadata": {},
   "outputs": [
    {
     "data": {
      "text/html": [
       "<div>\n",
       "<style scoped>\n",
       "    .dataframe tbody tr th:only-of-type {\n",
       "        vertical-align: middle;\n",
       "    }\n",
       "\n",
       "    .dataframe tbody tr th {\n",
       "        vertical-align: top;\n",
       "    }\n",
       "\n",
       "    .dataframe thead th {\n",
       "        text-align: right;\n",
       "    }\n",
       "</style>\n",
       "<table border=\"1\" class=\"dataframe\">\n",
       "  <thead>\n",
       "    <tr style=\"text-align: right;\">\n",
       "      <th></th>\n",
       "      <th>County</th>\n",
       "      <th>number18</th>\n",
       "      <th>%adv18</th>\n",
       "      <th>%prof18</th>\n",
       "      <th>%bas18</th>\n",
       "      <th>%belbas18</th>\n",
       "      <th>number22</th>\n",
       "      <th>%adv22</th>\n",
       "      <th>%prof22</th>\n",
       "      <th>%bas22</th>\n",
       "      <th>%belbas22</th>\n",
       "      <th>10 to 14 year olds enrolled in school</th>\n",
       "      <th>15 to 17 year olds enrolled in school</th>\n",
       "      <th>5 to 9 year olds enrolled in school</th>\n",
       "      <th>BROADBAND USAGE</th>\n",
       "      <th>Median Income</th>\n",
       "      <th>Median Income Group</th>\n",
       "      <th>Broadband Speed Category</th>\n",
       "    </tr>\n",
       "  </thead>\n",
       "  <tbody>\n",
       "    <tr>\n",
       "      <th>0</th>\n",
       "      <td>ADAMS</td>\n",
       "      <td>83.0</td>\n",
       "      <td>17.60</td>\n",
       "      <td>38.3</td>\n",
       "      <td>28.6</td>\n",
       "      <td>9.60</td>\n",
       "      <td>112.0</td>\n",
       "      <td>15.90</td>\n",
       "      <td>36.55</td>\n",
       "      <td>30.05</td>\n",
       "      <td>17.05</td>\n",
       "      <td>5305.0</td>\n",
       "      <td>4161.0</td>\n",
       "      <td>5034.0</td>\n",
       "      <td>24.50</td>\n",
       "      <td>67253</td>\n",
       "      <td>Moderate</td>\n",
       "      <td>Very Low</td>\n",
       "    </tr>\n",
       "    <tr>\n",
       "      <th>1</th>\n",
       "      <td>ALLEGHENY</td>\n",
       "      <td>61.0</td>\n",
       "      <td>17.15</td>\n",
       "      <td>32.9</td>\n",
       "      <td>24.5</td>\n",
       "      <td>9.85</td>\n",
       "      <td>58.0</td>\n",
       "      <td>13.25</td>\n",
       "      <td>29.30</td>\n",
       "      <td>25.40</td>\n",
       "      <td>15.80</td>\n",
       "      <td>59856.0</td>\n",
       "      <td>38359.0</td>\n",
       "      <td>61209.0</td>\n",
       "      <td>47.90</td>\n",
       "      <td>61043</td>\n",
       "      <td>Low</td>\n",
       "      <td>Very Low</td>\n",
       "    </tr>\n",
       "    <tr>\n",
       "      <th>2</th>\n",
       "      <td>ARMSTRONG</td>\n",
       "      <td>85.5</td>\n",
       "      <td>19.15</td>\n",
       "      <td>40.9</td>\n",
       "      <td>27.4</td>\n",
       "      <td>7.95</td>\n",
       "      <td>72.5</td>\n",
       "      <td>15.65</td>\n",
       "      <td>37.90</td>\n",
       "      <td>29.00</td>\n",
       "      <td>12.10</td>\n",
       "      <td>3073.0</td>\n",
       "      <td>2258.0</td>\n",
       "      <td>3812.0</td>\n",
       "      <td>24.00</td>\n",
       "      <td>51410</td>\n",
       "      <td>Low</td>\n",
       "      <td>Very Low</td>\n",
       "    </tr>\n",
       "    <tr>\n",
       "      <th>3</th>\n",
       "      <td>BEAVER</td>\n",
       "      <td>79.0</td>\n",
       "      <td>14.80</td>\n",
       "      <td>37.7</td>\n",
       "      <td>27.0</td>\n",
       "      <td>12.20</td>\n",
       "      <td>77.0</td>\n",
       "      <td>11.40</td>\n",
       "      <td>33.30</td>\n",
       "      <td>29.50</td>\n",
       "      <td>18.00</td>\n",
       "      <td>9066.0</td>\n",
       "      <td>5852.0</td>\n",
       "      <td>7693.0</td>\n",
       "      <td>30.75</td>\n",
       "      <td>57807</td>\n",
       "      <td>Low</td>\n",
       "      <td>Very Low</td>\n",
       "    </tr>\n",
       "    <tr>\n",
       "      <th>4</th>\n",
       "      <td>BEDFORD</td>\n",
       "      <td>68.0</td>\n",
       "      <td>14.30</td>\n",
       "      <td>38.1</td>\n",
       "      <td>31.4</td>\n",
       "      <td>9.20</td>\n",
       "      <td>69.0</td>\n",
       "      <td>14.10</td>\n",
       "      <td>32.90</td>\n",
       "      <td>29.20</td>\n",
       "      <td>15.20</td>\n",
       "      <td>NaN</td>\n",
       "      <td>NaN</td>\n",
       "      <td>NaN</td>\n",
       "      <td>12.25</td>\n",
       "      <td>50509</td>\n",
       "      <td>Low</td>\n",
       "      <td>Very Low</td>\n",
       "    </tr>\n",
       "  </tbody>\n",
       "</table>\n",
       "</div>"
      ],
      "text/plain": [
       "      County  number18  %adv18  %prof18  %bas18  %belbas18  number22  %adv22  \\\n",
       "0      ADAMS      83.0   17.60     38.3    28.6       9.60     112.0   15.90   \n",
       "1  ALLEGHENY      61.0   17.15     32.9    24.5       9.85      58.0   13.25   \n",
       "2  ARMSTRONG      85.5   19.15     40.9    27.4       7.95      72.5   15.65   \n",
       "3     BEAVER      79.0   14.80     37.7    27.0      12.20      77.0   11.40   \n",
       "4    BEDFORD      68.0   14.30     38.1    31.4       9.20      69.0   14.10   \n",
       "\n",
       "   %prof22  %bas22  %belbas22  10 to 14 year olds enrolled in school  \\\n",
       "0    36.55   30.05      17.05                                 5305.0   \n",
       "1    29.30   25.40      15.80                                59856.0   \n",
       "2    37.90   29.00      12.10                                 3073.0   \n",
       "3    33.30   29.50      18.00                                 9066.0   \n",
       "4    32.90   29.20      15.20                                    NaN   \n",
       "\n",
       "   15 to 17 year olds enrolled in school  5 to 9 year olds enrolled in school  \\\n",
       "0                                 4161.0                               5034.0   \n",
       "1                                38359.0                              61209.0   \n",
       "2                                 2258.0                               3812.0   \n",
       "3                                 5852.0                               7693.0   \n",
       "4                                    NaN                                  NaN   \n",
       "\n",
       "   BROADBAND USAGE  Median Income Median Income Group Broadband Speed Category  \n",
       "0            24.50          67253            Moderate                 Very Low  \n",
       "1            47.90          61043                 Low                 Very Low  \n",
       "2            24.00          51410                 Low                 Very Low  \n",
       "3            30.75          57807                 Low                 Very Low  \n",
       "4            12.25          50509                 Low                 Very Low  "
      ]
     },
     "execution_count": 4,
     "metadata": {},
     "output_type": "execute_result"
    }
   ],
   "source": [
    "#importing and formatting the cleaned data\n",
    "v = data.columns\n",
    "w = v.str.lstrip()\n",
    "w = w.str.replace('_', '')\n",
    "rename = {v:w for (v,w) in zip(v,w)}\n",
    "data.rename(rename, axis = 1, inplace = True)\n",
    "data['BROADBAND USAGE'] = data['BROADBAND USAGE']*100\n",
    "data.head()"
   ]
  },
  {
   "cell_type": "code",
   "execution_count": 5,
   "id": "04cab579",
   "metadata": {},
   "outputs": [
    {
     "name": "stderr",
     "output_type": "stream",
     "text": [
      "C:\\Users\\HP\\AppData\\Local\\Temp\\ipykernel_30200\\3093382484.py:1: FutureWarning: The default of observed=False is deprecated and will be changed to True in a future version of pandas. Pass observed=False to retain current behavior or observed=True to adopt the future default and silence this warning.\n",
      "  df = data.groupby(by = 'Median Income Group',as_index = False)[['%belbas18','%belbas22']].mean()\n"
     ]
    },
    {
     "data": {
      "text/html": [
       "<div>\n",
       "<style scoped>\n",
       "    .dataframe tbody tr th:only-of-type {\n",
       "        vertical-align: middle;\n",
       "    }\n",
       "\n",
       "    .dataframe tbody tr th {\n",
       "        vertical-align: top;\n",
       "    }\n",
       "\n",
       "    .dataframe thead th {\n",
       "        text-align: right;\n",
       "    }\n",
       "</style>\n",
       "<table border=\"1\" class=\"dataframe\">\n",
       "  <thead>\n",
       "    <tr style=\"text-align: right;\">\n",
       "      <th></th>\n",
       "      <th>Median Income Group</th>\n",
       "      <th>%belbas18</th>\n",
       "      <th>%belbas22</th>\n",
       "    </tr>\n",
       "  </thead>\n",
       "  <tbody>\n",
       "    <tr>\n",
       "      <th>0</th>\n",
       "      <td>Very Low</td>\n",
       "      <td>10.984375</td>\n",
       "      <td>17.328125</td>\n",
       "    </tr>\n",
       "    <tr>\n",
       "      <th>1</th>\n",
       "      <td>Low</td>\n",
       "      <td>10.988750</td>\n",
       "      <td>17.388750</td>\n",
       "    </tr>\n",
       "    <tr>\n",
       "      <th>2</th>\n",
       "      <td>Moderate</td>\n",
       "      <td>9.631250</td>\n",
       "      <td>15.031250</td>\n",
       "    </tr>\n",
       "    <tr>\n",
       "      <th>3</th>\n",
       "      <td>High</td>\n",
       "      <td>5.750000</td>\n",
       "      <td>9.783333</td>\n",
       "    </tr>\n",
       "  </tbody>\n",
       "</table>\n",
       "</div>"
      ],
      "text/plain": [
       "  Median Income Group  %belbas18  %belbas22\n",
       "0            Very Low  10.984375  17.328125\n",
       "1                 Low  10.988750  17.388750\n",
       "2            Moderate   9.631250  15.031250\n",
       "3                High   5.750000   9.783333"
      ]
     },
     "execution_count": 5,
     "metadata": {},
     "output_type": "execute_result"
    }
   ],
   "source": [
    "df = data.groupby(by = 'Median Income Group',as_index = False)[['%belbas18','%belbas22']].mean()\n",
    "df\n",
    "#,'Below Basic Change'"
   ]
  },
  {
   "cell_type": "code",
   "execution_count": 6,
   "id": "6b045d09",
   "metadata": {},
   "outputs": [
    {
     "data": {
      "text/html": [
       "<div>\n",
       "<style scoped>\n",
       "    .dataframe tbody tr th:only-of-type {\n",
       "        vertical-align: middle;\n",
       "    }\n",
       "\n",
       "    .dataframe tbody tr th {\n",
       "        vertical-align: top;\n",
       "    }\n",
       "\n",
       "    .dataframe thead th {\n",
       "        text-align: right;\n",
       "    }\n",
       "</style>\n",
       "<table border=\"1\" class=\"dataframe\">\n",
       "  <thead>\n",
       "    <tr style=\"text-align: right;\">\n",
       "      <th></th>\n",
       "      <th>MedianIncomeGroup</th>\n",
       "      <th>Counts</th>\n",
       "      <th>value</th>\n",
       "    </tr>\n",
       "  </thead>\n",
       "  <tbody>\n",
       "    <tr>\n",
       "      <th>0</th>\n",
       "      <td>Very Low</td>\n",
       "      <td>%belbas18</td>\n",
       "      <td>10.984375</td>\n",
       "    </tr>\n",
       "    <tr>\n",
       "      <th>1</th>\n",
       "      <td>Low</td>\n",
       "      <td>%belbas18</td>\n",
       "      <td>10.988750</td>\n",
       "    </tr>\n",
       "    <tr>\n",
       "      <th>2</th>\n",
       "      <td>Moderate</td>\n",
       "      <td>%belbas18</td>\n",
       "      <td>9.631250</td>\n",
       "    </tr>\n",
       "    <tr>\n",
       "      <th>3</th>\n",
       "      <td>High</td>\n",
       "      <td>%belbas18</td>\n",
       "      <td>5.750000</td>\n",
       "    </tr>\n",
       "    <tr>\n",
       "      <th>4</th>\n",
       "      <td>Very Low</td>\n",
       "      <td>%belbas22</td>\n",
       "      <td>17.328125</td>\n",
       "    </tr>\n",
       "    <tr>\n",
       "      <th>5</th>\n",
       "      <td>Low</td>\n",
       "      <td>%belbas22</td>\n",
       "      <td>17.388750</td>\n",
       "    </tr>\n",
       "    <tr>\n",
       "      <th>6</th>\n",
       "      <td>Moderate</td>\n",
       "      <td>%belbas22</td>\n",
       "      <td>15.031250</td>\n",
       "    </tr>\n",
       "    <tr>\n",
       "      <th>7</th>\n",
       "      <td>High</td>\n",
       "      <td>%belbas22</td>\n",
       "      <td>9.783333</td>\n",
       "    </tr>\n",
       "  </tbody>\n",
       "</table>\n",
       "</div>"
      ],
      "text/plain": [
       "  MedianIncomeGroup     Counts      value\n",
       "0          Very Low  %belbas18  10.984375\n",
       "1               Low  %belbas18  10.988750\n",
       "2          Moderate  %belbas18   9.631250\n",
       "3              High  %belbas18   5.750000\n",
       "4          Very Low  %belbas22  17.328125\n",
       "5               Low  %belbas22  17.388750\n",
       "6          Moderate  %belbas22  15.031250\n",
       "7              High  %belbas22   9.783333"
      ]
     },
     "execution_count": 6,
     "metadata": {},
     "output_type": "execute_result"
    }
   ],
   "source": [
    "id_vars = 'Median Income Group'\n",
    "var_name = ['%belbas18','%belbas22']\n",
    "value_name = \"Counts\"\n",
    "\n",
    "temp_melted = pd.melt(df, id_vars, \n",
    "                var_name, \n",
    "                value_name)\n",
    "temp_melted.rename({'Median Income Group':'MedianIncomeGroup'},inplace=True,axis=1)\n",
    "temp_melted"
   ]
  },
  {
   "cell_type": "code",
   "execution_count": 8,
   "id": "7fdea007",
   "metadata": {},
   "outputs": [
    {
     "data": {
      "application/vnd.plotly.v1+json": {
       "config": {
        "plotlyServerURL": "https://plot.ly"
       },
       "data": [
        {
         "marker": {
          "color": "black"
         },
         "mode": "lines",
         "showlegend": false,
         "type": "scatter",
         "x": [
          10.984375,
          17.328125,
          null,
          10.98875,
          17.388749999999998,
          null,
          9.63125,
          15.03125,
          null,
          5.75,
          9.783333333333333,
          null
         ],
         "y": [
          "Very Low",
          "Very Low",
          null,
          "Low",
          "Low",
          null,
          "Moderate",
          "Moderate",
          null,
          "High",
          "High",
          null
         ]
        },
        {
         "marker": {
          "color": "rgba(38, 24, 74, 0.8)",
          "size": 10
         },
         "mode": "markers",
         "name": "2018",
         "type": "scatter",
         "x": [
          10.984375,
          10.98875,
          9.63125,
          5.75
         ],
         "y": [
          "Very Low",
          "Low",
          "Moderate",
          "High"
         ]
        },
        {
         "marker": {
          "color": "rgba(122, 120, 168, 0.8)",
          "size": 10
         },
         "mode": "markers",
         "name": "2022",
         "type": "scatter",
         "x": [
          17.328125,
          17.388749999999998,
          15.03125,
          9.783333333333333
         ],
         "y": [
          "Very Low",
          "Low",
          "Moderate",
          "High"
         ]
        }
       ],
       "layout": {
        "autosize": false,
        "font": {
         "color": "black",
         "family": "Arial",
         "size": 10
        },
        "height": 300,
        "legend": {
         "itemclick": false
        },
        "paper_bgcolor": "white",
        "plot_bgcolor": "white",
        "template": {
         "data": {
          "bar": [
           {
            "error_x": {
             "color": "#2a3f5f"
            },
            "error_y": {
             "color": "#2a3f5f"
            },
            "marker": {
             "line": {
              "color": "#E5ECF6",
              "width": 0.5
             },
             "pattern": {
              "fillmode": "overlay",
              "size": 10,
              "solidity": 0.2
             }
            },
            "type": "bar"
           }
          ],
          "barpolar": [
           {
            "marker": {
             "line": {
              "color": "#E5ECF6",
              "width": 0.5
             },
             "pattern": {
              "fillmode": "overlay",
              "size": 10,
              "solidity": 0.2
             }
            },
            "type": "barpolar"
           }
          ],
          "carpet": [
           {
            "aaxis": {
             "endlinecolor": "#2a3f5f",
             "gridcolor": "white",
             "linecolor": "white",
             "minorgridcolor": "white",
             "startlinecolor": "#2a3f5f"
            },
            "baxis": {
             "endlinecolor": "#2a3f5f",
             "gridcolor": "white",
             "linecolor": "white",
             "minorgridcolor": "white",
             "startlinecolor": "#2a3f5f"
            },
            "type": "carpet"
           }
          ],
          "choropleth": [
           {
            "colorbar": {
             "outlinewidth": 0,
             "ticks": ""
            },
            "type": "choropleth"
           }
          ],
          "contour": [
           {
            "colorbar": {
             "outlinewidth": 0,
             "ticks": ""
            },
            "colorscale": [
             [
              0,
              "#0d0887"
             ],
             [
              0.1111111111111111,
              "#46039f"
             ],
             [
              0.2222222222222222,
              "#7201a8"
             ],
             [
              0.3333333333333333,
              "#9c179e"
             ],
             [
              0.4444444444444444,
              "#bd3786"
             ],
             [
              0.5555555555555556,
              "#d8576b"
             ],
             [
              0.6666666666666666,
              "#ed7953"
             ],
             [
              0.7777777777777778,
              "#fb9f3a"
             ],
             [
              0.8888888888888888,
              "#fdca26"
             ],
             [
              1,
              "#f0f921"
             ]
            ],
            "type": "contour"
           }
          ],
          "contourcarpet": [
           {
            "colorbar": {
             "outlinewidth": 0,
             "ticks": ""
            },
            "type": "contourcarpet"
           }
          ],
          "heatmap": [
           {
            "colorbar": {
             "outlinewidth": 0,
             "ticks": ""
            },
            "colorscale": [
             [
              0,
              "#0d0887"
             ],
             [
              0.1111111111111111,
              "#46039f"
             ],
             [
              0.2222222222222222,
              "#7201a8"
             ],
             [
              0.3333333333333333,
              "#9c179e"
             ],
             [
              0.4444444444444444,
              "#bd3786"
             ],
             [
              0.5555555555555556,
              "#d8576b"
             ],
             [
              0.6666666666666666,
              "#ed7953"
             ],
             [
              0.7777777777777778,
              "#fb9f3a"
             ],
             [
              0.8888888888888888,
              "#fdca26"
             ],
             [
              1,
              "#f0f921"
             ]
            ],
            "type": "heatmap"
           }
          ],
          "heatmapgl": [
           {
            "colorbar": {
             "outlinewidth": 0,
             "ticks": ""
            },
            "colorscale": [
             [
              0,
              "#0d0887"
             ],
             [
              0.1111111111111111,
              "#46039f"
             ],
             [
              0.2222222222222222,
              "#7201a8"
             ],
             [
              0.3333333333333333,
              "#9c179e"
             ],
             [
              0.4444444444444444,
              "#bd3786"
             ],
             [
              0.5555555555555556,
              "#d8576b"
             ],
             [
              0.6666666666666666,
              "#ed7953"
             ],
             [
              0.7777777777777778,
              "#fb9f3a"
             ],
             [
              0.8888888888888888,
              "#fdca26"
             ],
             [
              1,
              "#f0f921"
             ]
            ],
            "type": "heatmapgl"
           }
          ],
          "histogram": [
           {
            "marker": {
             "pattern": {
              "fillmode": "overlay",
              "size": 10,
              "solidity": 0.2
             }
            },
            "type": "histogram"
           }
          ],
          "histogram2d": [
           {
            "colorbar": {
             "outlinewidth": 0,
             "ticks": ""
            },
            "colorscale": [
             [
              0,
              "#0d0887"
             ],
             [
              0.1111111111111111,
              "#46039f"
             ],
             [
              0.2222222222222222,
              "#7201a8"
             ],
             [
              0.3333333333333333,
              "#9c179e"
             ],
             [
              0.4444444444444444,
              "#bd3786"
             ],
             [
              0.5555555555555556,
              "#d8576b"
             ],
             [
              0.6666666666666666,
              "#ed7953"
             ],
             [
              0.7777777777777778,
              "#fb9f3a"
             ],
             [
              0.8888888888888888,
              "#fdca26"
             ],
             [
              1,
              "#f0f921"
             ]
            ],
            "type": "histogram2d"
           }
          ],
          "histogram2dcontour": [
           {
            "colorbar": {
             "outlinewidth": 0,
             "ticks": ""
            },
            "colorscale": [
             [
              0,
              "#0d0887"
             ],
             [
              0.1111111111111111,
              "#46039f"
             ],
             [
              0.2222222222222222,
              "#7201a8"
             ],
             [
              0.3333333333333333,
              "#9c179e"
             ],
             [
              0.4444444444444444,
              "#bd3786"
             ],
             [
              0.5555555555555556,
              "#d8576b"
             ],
             [
              0.6666666666666666,
              "#ed7953"
             ],
             [
              0.7777777777777778,
              "#fb9f3a"
             ],
             [
              0.8888888888888888,
              "#fdca26"
             ],
             [
              1,
              "#f0f921"
             ]
            ],
            "type": "histogram2dcontour"
           }
          ],
          "mesh3d": [
           {
            "colorbar": {
             "outlinewidth": 0,
             "ticks": ""
            },
            "type": "mesh3d"
           }
          ],
          "parcoords": [
           {
            "line": {
             "colorbar": {
              "outlinewidth": 0,
              "ticks": ""
             }
            },
            "type": "parcoords"
           }
          ],
          "pie": [
           {
            "automargin": true,
            "type": "pie"
           }
          ],
          "scatter": [
           {
            "fillpattern": {
             "fillmode": "overlay",
             "size": 10,
             "solidity": 0.2
            },
            "type": "scatter"
           }
          ],
          "scatter3d": [
           {
            "line": {
             "colorbar": {
              "outlinewidth": 0,
              "ticks": ""
             }
            },
            "marker": {
             "colorbar": {
              "outlinewidth": 0,
              "ticks": ""
             }
            },
            "type": "scatter3d"
           }
          ],
          "scattercarpet": [
           {
            "marker": {
             "colorbar": {
              "outlinewidth": 0,
              "ticks": ""
             }
            },
            "type": "scattercarpet"
           }
          ],
          "scattergeo": [
           {
            "marker": {
             "colorbar": {
              "outlinewidth": 0,
              "ticks": ""
             }
            },
            "type": "scattergeo"
           }
          ],
          "scattergl": [
           {
            "marker": {
             "colorbar": {
              "outlinewidth": 0,
              "ticks": ""
             }
            },
            "type": "scattergl"
           }
          ],
          "scattermapbox": [
           {
            "marker": {
             "colorbar": {
              "outlinewidth": 0,
              "ticks": ""
             }
            },
            "type": "scattermapbox"
           }
          ],
          "scatterpolar": [
           {
            "marker": {
             "colorbar": {
              "outlinewidth": 0,
              "ticks": ""
             }
            },
            "type": "scatterpolar"
           }
          ],
          "scatterpolargl": [
           {
            "marker": {
             "colorbar": {
              "outlinewidth": 0,
              "ticks": ""
             }
            },
            "type": "scatterpolargl"
           }
          ],
          "scatterternary": [
           {
            "marker": {
             "colorbar": {
              "outlinewidth": 0,
              "ticks": ""
             }
            },
            "type": "scatterternary"
           }
          ],
          "surface": [
           {
            "colorbar": {
             "outlinewidth": 0,
             "ticks": ""
            },
            "colorscale": [
             [
              0,
              "#0d0887"
             ],
             [
              0.1111111111111111,
              "#46039f"
             ],
             [
              0.2222222222222222,
              "#7201a8"
             ],
             [
              0.3333333333333333,
              "#9c179e"
             ],
             [
              0.4444444444444444,
              "#bd3786"
             ],
             [
              0.5555555555555556,
              "#d8576b"
             ],
             [
              0.6666666666666666,
              "#ed7953"
             ],
             [
              0.7777777777777778,
              "#fb9f3a"
             ],
             [
              0.8888888888888888,
              "#fdca26"
             ],
             [
              1,
              "#f0f921"
             ]
            ],
            "type": "surface"
           }
          ],
          "table": [
           {
            "cells": {
             "fill": {
              "color": "#EBF0F8"
             },
             "line": {
              "color": "white"
             }
            },
            "header": {
             "fill": {
              "color": "#C8D4E3"
             },
             "line": {
              "color": "white"
             }
            },
            "type": "table"
           }
          ]
         },
         "layout": {
          "annotationdefaults": {
           "arrowcolor": "#2a3f5f",
           "arrowhead": 0,
           "arrowwidth": 1
          },
          "autotypenumbers": "strict",
          "coloraxis": {
           "colorbar": {
            "outlinewidth": 0,
            "ticks": ""
           }
          },
          "colorscale": {
           "diverging": [
            [
             0,
             "#8e0152"
            ],
            [
             0.1,
             "#c51b7d"
            ],
            [
             0.2,
             "#de77ae"
            ],
            [
             0.3,
             "#f1b6da"
            ],
            [
             0.4,
             "#fde0ef"
            ],
            [
             0.5,
             "#f7f7f7"
            ],
            [
             0.6,
             "#e6f5d0"
            ],
            [
             0.7,
             "#b8e186"
            ],
            [
             0.8,
             "#7fbc41"
            ],
            [
             0.9,
             "#4d9221"
            ],
            [
             1,
             "#276419"
            ]
           ],
           "sequential": [
            [
             0,
             "#0d0887"
            ],
            [
             0.1111111111111111,
             "#46039f"
            ],
            [
             0.2222222222222222,
             "#7201a8"
            ],
            [
             0.3333333333333333,
             "#9c179e"
            ],
            [
             0.4444444444444444,
             "#bd3786"
            ],
            [
             0.5555555555555556,
             "#d8576b"
            ],
            [
             0.6666666666666666,
             "#ed7953"
            ],
            [
             0.7777777777777778,
             "#fb9f3a"
            ],
            [
             0.8888888888888888,
             "#fdca26"
            ],
            [
             1,
             "#f0f921"
            ]
           ],
           "sequentialminus": [
            [
             0,
             "#0d0887"
            ],
            [
             0.1111111111111111,
             "#46039f"
            ],
            [
             0.2222222222222222,
             "#7201a8"
            ],
            [
             0.3333333333333333,
             "#9c179e"
            ],
            [
             0.4444444444444444,
             "#bd3786"
            ],
            [
             0.5555555555555556,
             "#d8576b"
            ],
            [
             0.6666666666666666,
             "#ed7953"
            ],
            [
             0.7777777777777778,
             "#fb9f3a"
            ],
            [
             0.8888888888888888,
             "#fdca26"
            ],
            [
             1,
             "#f0f921"
            ]
           ]
          },
          "colorway": [
           "#636efa",
           "#EF553B",
           "#00cc96",
           "#ab63fa",
           "#FFA15A",
           "#19d3f3",
           "#FF6692",
           "#B6E880",
           "#FF97FF",
           "#FECB52"
          ],
          "font": {
           "color": "#2a3f5f"
          },
          "geo": {
           "bgcolor": "white",
           "lakecolor": "white",
           "landcolor": "#E5ECF6",
           "showlakes": true,
           "showland": true,
           "subunitcolor": "white"
          },
          "hoverlabel": {
           "align": "left"
          },
          "hovermode": "closest",
          "mapbox": {
           "style": "light"
          },
          "paper_bgcolor": "white",
          "plot_bgcolor": "#E5ECF6",
          "polar": {
           "angularaxis": {
            "gridcolor": "white",
            "linecolor": "white",
            "ticks": ""
           },
           "bgcolor": "#E5ECF6",
           "radialaxis": {
            "gridcolor": "white",
            "linecolor": "white",
            "ticks": ""
           }
          },
          "scene": {
           "xaxis": {
            "backgroundcolor": "#E5ECF6",
            "gridcolor": "white",
            "gridwidth": 2,
            "linecolor": "white",
            "showbackground": true,
            "ticks": "",
            "zerolinecolor": "white"
           },
           "yaxis": {
            "backgroundcolor": "#E5ECF6",
            "gridcolor": "white",
            "gridwidth": 2,
            "linecolor": "white",
            "showbackground": true,
            "ticks": "",
            "zerolinecolor": "white"
           },
           "zaxis": {
            "backgroundcolor": "#E5ECF6",
            "gridcolor": "white",
            "gridwidth": 2,
            "linecolor": "white",
            "showbackground": true,
            "ticks": "",
            "zerolinecolor": "white"
           }
          },
          "shapedefaults": {
           "line": {
            "color": "#2a3f5f"
           }
          },
          "ternary": {
           "aaxis": {
            "gridcolor": "white",
            "linecolor": "white",
            "ticks": ""
           },
           "baxis": {
            "gridcolor": "white",
            "linecolor": "white",
            "ticks": ""
           },
           "bgcolor": "#E5ECF6",
           "caxis": {
            "gridcolor": "white",
            "linecolor": "white",
            "ticks": ""
           }
          },
          "title": {
           "x": 0.05
          },
          "xaxis": {
           "automargin": true,
           "gridcolor": "white",
           "linecolor": "white",
           "ticks": "",
           "title": {
            "standoff": 15
           },
           "zerolinecolor": "white",
           "zerolinewidth": 2
          },
          "yaxis": {
           "automargin": true,
           "gridcolor": "white",
           "linecolor": "white",
           "ticks": "",
           "title": {
            "standoff": 15
           },
           "zerolinecolor": "white",
           "zerolinewidth": 2
          }
         }
        },
        "title": {
         "text": "% of Students in Below-Basic Score Category in Each Income Group"
        },
        "width": 500,
        "xaxis": {
         "showgrid": false,
         "title": {
          "text": "% Students in Below-Basic Score Category"
         }
        },
        "yaxis": {
         "showgrid": false,
         "title": {
          "text": "Income Group"
         }
        }
       }
      },
      "text/html": [
       "<div>                            <div id=\"32b44d88-7240-4b48-8616-ff49496f7ac5\" class=\"plotly-graph-div\" style=\"height:300px; width:500px;\"></div>            <script type=\"text/javascript\">                require([\"plotly\"], function(Plotly) {                    window.PLOTLYENV=window.PLOTLYENV || {};                                    if (document.getElementById(\"32b44d88-7240-4b48-8616-ff49496f7ac5\")) {                    Plotly.newPlot(                        \"32b44d88-7240-4b48-8616-ff49496f7ac5\",                        [{\"marker\":{\"color\":\"black\"},\"mode\":\"lines\",\"showlegend\":false,\"x\":[10.984375,17.328125,null,10.98875,17.388749999999998,null,9.63125,15.03125,null,5.75,9.783333333333333,null],\"y\":[\"Very Low\",\"Very Low\",null,\"Low\",\"Low\",null,\"Moderate\",\"Moderate\",null,\"High\",\"High\",null],\"type\":\"scatter\"},{\"marker\":{\"color\":\"rgba(38, 24, 74, 0.8)\",\"size\":10},\"mode\":\"markers\",\"name\":\"2018\",\"x\":[10.984375,10.98875,9.63125,5.75],\"y\":[\"Very Low\",\"Low\",\"Moderate\",\"High\"],\"type\":\"scatter\"},{\"marker\":{\"color\":\"rgba(122, 120, 168, 0.8)\",\"size\":10},\"mode\":\"markers\",\"name\":\"2022\",\"x\":[17.328125,17.388749999999998,15.03125,9.783333333333333],\"y\":[\"Very Low\",\"Low\",\"Moderate\",\"High\"],\"type\":\"scatter\"}],                        {\"template\":{\"data\":{\"histogram2dcontour\":[{\"type\":\"histogram2dcontour\",\"colorbar\":{\"outlinewidth\":0,\"ticks\":\"\"},\"colorscale\":[[0.0,\"#0d0887\"],[0.1111111111111111,\"#46039f\"],[0.2222222222222222,\"#7201a8\"],[0.3333333333333333,\"#9c179e\"],[0.4444444444444444,\"#bd3786\"],[0.5555555555555556,\"#d8576b\"],[0.6666666666666666,\"#ed7953\"],[0.7777777777777778,\"#fb9f3a\"],[0.8888888888888888,\"#fdca26\"],[1.0,\"#f0f921\"]]}],\"choropleth\":[{\"type\":\"choropleth\",\"colorbar\":{\"outlinewidth\":0,\"ticks\":\"\"}}],\"histogram2d\":[{\"type\":\"histogram2d\",\"colorbar\":{\"outlinewidth\":0,\"ticks\":\"\"},\"colorscale\":[[0.0,\"#0d0887\"],[0.1111111111111111,\"#46039f\"],[0.2222222222222222,\"#7201a8\"],[0.3333333333333333,\"#9c179e\"],[0.4444444444444444,\"#bd3786\"],[0.5555555555555556,\"#d8576b\"],[0.6666666666666666,\"#ed7953\"],[0.7777777777777778,\"#fb9f3a\"],[0.8888888888888888,\"#fdca26\"],[1.0,\"#f0f921\"]]}],\"heatmap\":[{\"type\":\"heatmap\",\"colorbar\":{\"outlinewidth\":0,\"ticks\":\"\"},\"colorscale\":[[0.0,\"#0d0887\"],[0.1111111111111111,\"#46039f\"],[0.2222222222222222,\"#7201a8\"],[0.3333333333333333,\"#9c179e\"],[0.4444444444444444,\"#bd3786\"],[0.5555555555555556,\"#d8576b\"],[0.6666666666666666,\"#ed7953\"],[0.7777777777777778,\"#fb9f3a\"],[0.8888888888888888,\"#fdca26\"],[1.0,\"#f0f921\"]]}],\"heatmapgl\":[{\"type\":\"heatmapgl\",\"colorbar\":{\"outlinewidth\":0,\"ticks\":\"\"},\"colorscale\":[[0.0,\"#0d0887\"],[0.1111111111111111,\"#46039f\"],[0.2222222222222222,\"#7201a8\"],[0.3333333333333333,\"#9c179e\"],[0.4444444444444444,\"#bd3786\"],[0.5555555555555556,\"#d8576b\"],[0.6666666666666666,\"#ed7953\"],[0.7777777777777778,\"#fb9f3a\"],[0.8888888888888888,\"#fdca26\"],[1.0,\"#f0f921\"]]}],\"contourcarpet\":[{\"type\":\"contourcarpet\",\"colorbar\":{\"outlinewidth\":0,\"ticks\":\"\"}}],\"contour\":[{\"type\":\"contour\",\"colorbar\":{\"outlinewidth\":0,\"ticks\":\"\"},\"colorscale\":[[0.0,\"#0d0887\"],[0.1111111111111111,\"#46039f\"],[0.2222222222222222,\"#7201a8\"],[0.3333333333333333,\"#9c179e\"],[0.4444444444444444,\"#bd3786\"],[0.5555555555555556,\"#d8576b\"],[0.6666666666666666,\"#ed7953\"],[0.7777777777777778,\"#fb9f3a\"],[0.8888888888888888,\"#fdca26\"],[1.0,\"#f0f921\"]]}],\"surface\":[{\"type\":\"surface\",\"colorbar\":{\"outlinewidth\":0,\"ticks\":\"\"},\"colorscale\":[[0.0,\"#0d0887\"],[0.1111111111111111,\"#46039f\"],[0.2222222222222222,\"#7201a8\"],[0.3333333333333333,\"#9c179e\"],[0.4444444444444444,\"#bd3786\"],[0.5555555555555556,\"#d8576b\"],[0.6666666666666666,\"#ed7953\"],[0.7777777777777778,\"#fb9f3a\"],[0.8888888888888888,\"#fdca26\"],[1.0,\"#f0f921\"]]}],\"mesh3d\":[{\"type\":\"mesh3d\",\"colorbar\":{\"outlinewidth\":0,\"ticks\":\"\"}}],\"scatter\":[{\"fillpattern\":{\"fillmode\":\"overlay\",\"size\":10,\"solidity\":0.2},\"type\":\"scatter\"}],\"parcoords\":[{\"type\":\"parcoords\",\"line\":{\"colorbar\":{\"outlinewidth\":0,\"ticks\":\"\"}}}],\"scatterpolargl\":[{\"type\":\"scatterpolargl\",\"marker\":{\"colorbar\":{\"outlinewidth\":0,\"ticks\":\"\"}}}],\"bar\":[{\"error_x\":{\"color\":\"#2a3f5f\"},\"error_y\":{\"color\":\"#2a3f5f\"},\"marker\":{\"line\":{\"color\":\"#E5ECF6\",\"width\":0.5},\"pattern\":{\"fillmode\":\"overlay\",\"size\":10,\"solidity\":0.2}},\"type\":\"bar\"}],\"scattergeo\":[{\"type\":\"scattergeo\",\"marker\":{\"colorbar\":{\"outlinewidth\":0,\"ticks\":\"\"}}}],\"scatterpolar\":[{\"type\":\"scatterpolar\",\"marker\":{\"colorbar\":{\"outlinewidth\":0,\"ticks\":\"\"}}}],\"histogram\":[{\"marker\":{\"pattern\":{\"fillmode\":\"overlay\",\"size\":10,\"solidity\":0.2}},\"type\":\"histogram\"}],\"scattergl\":[{\"type\":\"scattergl\",\"marker\":{\"colorbar\":{\"outlinewidth\":0,\"ticks\":\"\"}}}],\"scatter3d\":[{\"type\":\"scatter3d\",\"line\":{\"colorbar\":{\"outlinewidth\":0,\"ticks\":\"\"}},\"marker\":{\"colorbar\":{\"outlinewidth\":0,\"ticks\":\"\"}}}],\"scattermapbox\":[{\"type\":\"scattermapbox\",\"marker\":{\"colorbar\":{\"outlinewidth\":0,\"ticks\":\"\"}}}],\"scatterternary\":[{\"type\":\"scatterternary\",\"marker\":{\"colorbar\":{\"outlinewidth\":0,\"ticks\":\"\"}}}],\"scattercarpet\":[{\"type\":\"scattercarpet\",\"marker\":{\"colorbar\":{\"outlinewidth\":0,\"ticks\":\"\"}}}],\"carpet\":[{\"aaxis\":{\"endlinecolor\":\"#2a3f5f\",\"gridcolor\":\"white\",\"linecolor\":\"white\",\"minorgridcolor\":\"white\",\"startlinecolor\":\"#2a3f5f\"},\"baxis\":{\"endlinecolor\":\"#2a3f5f\",\"gridcolor\":\"white\",\"linecolor\":\"white\",\"minorgridcolor\":\"white\",\"startlinecolor\":\"#2a3f5f\"},\"type\":\"carpet\"}],\"table\":[{\"cells\":{\"fill\":{\"color\":\"#EBF0F8\"},\"line\":{\"color\":\"white\"}},\"header\":{\"fill\":{\"color\":\"#C8D4E3\"},\"line\":{\"color\":\"white\"}},\"type\":\"table\"}],\"barpolar\":[{\"marker\":{\"line\":{\"color\":\"#E5ECF6\",\"width\":0.5},\"pattern\":{\"fillmode\":\"overlay\",\"size\":10,\"solidity\":0.2}},\"type\":\"barpolar\"}],\"pie\":[{\"automargin\":true,\"type\":\"pie\"}]},\"layout\":{\"autotypenumbers\":\"strict\",\"colorway\":[\"#636efa\",\"#EF553B\",\"#00cc96\",\"#ab63fa\",\"#FFA15A\",\"#19d3f3\",\"#FF6692\",\"#B6E880\",\"#FF97FF\",\"#FECB52\"],\"font\":{\"color\":\"#2a3f5f\"},\"hovermode\":\"closest\",\"hoverlabel\":{\"align\":\"left\"},\"paper_bgcolor\":\"white\",\"plot_bgcolor\":\"#E5ECF6\",\"polar\":{\"bgcolor\":\"#E5ECF6\",\"angularaxis\":{\"gridcolor\":\"white\",\"linecolor\":\"white\",\"ticks\":\"\"},\"radialaxis\":{\"gridcolor\":\"white\",\"linecolor\":\"white\",\"ticks\":\"\"}},\"ternary\":{\"bgcolor\":\"#E5ECF6\",\"aaxis\":{\"gridcolor\":\"white\",\"linecolor\":\"white\",\"ticks\":\"\"},\"baxis\":{\"gridcolor\":\"white\",\"linecolor\":\"white\",\"ticks\":\"\"},\"caxis\":{\"gridcolor\":\"white\",\"linecolor\":\"white\",\"ticks\":\"\"}},\"coloraxis\":{\"colorbar\":{\"outlinewidth\":0,\"ticks\":\"\"}},\"colorscale\":{\"sequential\":[[0.0,\"#0d0887\"],[0.1111111111111111,\"#46039f\"],[0.2222222222222222,\"#7201a8\"],[0.3333333333333333,\"#9c179e\"],[0.4444444444444444,\"#bd3786\"],[0.5555555555555556,\"#d8576b\"],[0.6666666666666666,\"#ed7953\"],[0.7777777777777778,\"#fb9f3a\"],[0.8888888888888888,\"#fdca26\"],[1.0,\"#f0f921\"]],\"sequentialminus\":[[0.0,\"#0d0887\"],[0.1111111111111111,\"#46039f\"],[0.2222222222222222,\"#7201a8\"],[0.3333333333333333,\"#9c179e\"],[0.4444444444444444,\"#bd3786\"],[0.5555555555555556,\"#d8576b\"],[0.6666666666666666,\"#ed7953\"],[0.7777777777777778,\"#fb9f3a\"],[0.8888888888888888,\"#fdca26\"],[1.0,\"#f0f921\"]],\"diverging\":[[0,\"#8e0152\"],[0.1,\"#c51b7d\"],[0.2,\"#de77ae\"],[0.3,\"#f1b6da\"],[0.4,\"#fde0ef\"],[0.5,\"#f7f7f7\"],[0.6,\"#e6f5d0\"],[0.7,\"#b8e186\"],[0.8,\"#7fbc41\"],[0.9,\"#4d9221\"],[1,\"#276419\"]]},\"xaxis\":{\"gridcolor\":\"white\",\"linecolor\":\"white\",\"ticks\":\"\",\"title\":{\"standoff\":15},\"zerolinecolor\":\"white\",\"automargin\":true,\"zerolinewidth\":2},\"yaxis\":{\"gridcolor\":\"white\",\"linecolor\":\"white\",\"ticks\":\"\",\"title\":{\"standoff\":15},\"zerolinecolor\":\"white\",\"automargin\":true,\"zerolinewidth\":2},\"scene\":{\"xaxis\":{\"backgroundcolor\":\"#E5ECF6\",\"gridcolor\":\"white\",\"linecolor\":\"white\",\"showbackground\":true,\"ticks\":\"\",\"zerolinecolor\":\"white\",\"gridwidth\":2},\"yaxis\":{\"backgroundcolor\":\"#E5ECF6\",\"gridcolor\":\"white\",\"linecolor\":\"white\",\"showbackground\":true,\"ticks\":\"\",\"zerolinecolor\":\"white\",\"gridwidth\":2},\"zaxis\":{\"backgroundcolor\":\"#E5ECF6\",\"gridcolor\":\"white\",\"linecolor\":\"white\",\"showbackground\":true,\"ticks\":\"\",\"zerolinecolor\":\"white\",\"gridwidth\":2}},\"shapedefaults\":{\"line\":{\"color\":\"#2a3f5f\"}},\"annotationdefaults\":{\"arrowcolor\":\"#2a3f5f\",\"arrowhead\":0,\"arrowwidth\":1},\"geo\":{\"bgcolor\":\"white\",\"landcolor\":\"#E5ECF6\",\"subunitcolor\":\"white\",\"showland\":true,\"showlakes\":true,\"lakecolor\":\"white\"},\"title\":{\"x\":0.05},\"mapbox\":{\"style\":\"light\"}}},\"font\":{\"family\":\"Arial\",\"size\":10,\"color\":\"black\"},\"legend\":{\"itemclick\":false},\"xaxis\":{\"title\":{\"text\":\"% Students in Below-Basic Score Category\"},\"showgrid\":false},\"yaxis\":{\"title\":{\"text\":\"Income Group\"},\"showgrid\":false},\"autosize\":false,\"width\":500,\"height\":300,\"title\":{\"text\":\"% of Students in Below-Basic Score Category in Each Income Group\"},\"paper_bgcolor\":\"white\",\"plot_bgcolor\":\"white\"},                        {\"responsive\": true}                    ).then(function(){\n",
       "                            \n",
       "var gd = document.getElementById('32b44d88-7240-4b48-8616-ff49496f7ac5');\n",
       "var x = new MutationObserver(function (mutations, observer) {{\n",
       "        var display = window.getComputedStyle(gd).display;\n",
       "        if (!display || display === 'none') {{\n",
       "            console.log([gd, 'removed!']);\n",
       "            Plotly.purge(gd);\n",
       "            observer.disconnect();\n",
       "        }}\n",
       "}});\n",
       "\n",
       "// Listen for the removal of the full notebook cells\n",
       "var notebookContainer = gd.closest('#notebook-container');\n",
       "if (notebookContainer) {{\n",
       "    x.observe(notebookContainer, {childList: true});\n",
       "}}\n",
       "\n",
       "// Listen for the clearing of the current output cell\n",
       "var outputEl = gd.closest('.output');\n",
       "if (outputEl) {{\n",
       "    x.observe(outputEl, {childList: true});\n",
       "}}\n",
       "\n",
       "                        })                };                });            </script>        </div>"
      ]
     },
     "metadata": {},
     "output_type": "display_data"
    }
   ],
   "source": [
    "import plotly.graph_objects as go\n",
    "from plotly import data\n",
    "\n",
    "import pandas as pd\n",
    "\n",
    "#temp_melted = data.gapminder()\n",
    "\n",
    "countries = (\n",
    "    temp_melted[\"MedianIncomeGroup\"]\n",
    "    .unique()\n",
    ")\n",
    "\n",
    "data = {\"line_x\": [], \"line_y\": [], \"% in Below Basic Category in 2018\": [], \"% in Below Basic Category in 2022\": [], \"colors\": [], \"Counts\": [], \"countries\": []}\n",
    "\n",
    "for x in countries:\n",
    "    data[\"% in Below Basic Category in 2018\"].extend([temp_melted.loc[(temp_melted.Counts == '%belbas18') & (temp_melted.MedianIncomeGroup == x)][\"value\"].values[0]])\n",
    "    data[\"% in Below Basic Category in 2022\"].extend([temp_melted.loc[(temp_melted.Counts == '%belbas22') & (temp_melted.MedianIncomeGroup == x)][\"value\"].values[0]])\n",
    "    data[\"line_x\"].extend(\n",
    "        [\n",
    "            temp_melted.loc[(temp_melted.Counts == '%belbas18') & (temp_melted.MedianIncomeGroup == x)][\"value\"].values[0],\n",
    "            temp_melted.loc[(temp_melted.Counts == '%belbas22') & (temp_melted.MedianIncomeGroup == x)][\"value\"].values[0],\n",
    "            None,\n",
    "        ]\n",
    "    )\n",
    "    data[\"line_y\"].extend([x, x, None]),\n",
    "\n",
    "fig = go.Figure(\n",
    "    data=[\n",
    "        go.Scatter(\n",
    "            x=data[\"line_x\"],\n",
    "            y=data[\"line_y\"],\n",
    "            mode=\"lines\",\n",
    "            showlegend=False,\n",
    "            marker=dict(\n",
    "                color=\"black\"\n",
    "            )\n",
    "        ),\n",
    "        go.Scatter(\n",
    "            x=data[\"% in Below Basic Category in 2018\"],\n",
    "            y=countries,\n",
    "            mode=\"markers\",\n",
    "            name=\"2018\",\n",
    "            marker=dict(\n",
    "                color='rgba(38, 24, 74, 0.8)',\n",
    "                size=10\n",
    "            )\n",
    "# 'rgba(38, 24, 74, 0.8)', 'rgba(71, 58, 131, 0.8)','rgba(122, 120, 168, 0.8)'           \n",
    "        ),\n",
    "        go.Scatter(\n",
    "            x=data[\"% in Below Basic Category in 2022\"],\n",
    "            y=countries,\n",
    "            mode=\"markers\",\n",
    "            name=\"2022\",\n",
    "            marker=dict(\n",
    "                color='rgba(122, 120, 168, 0.8)' ,\n",
    "                size=10\n",
    "            )   \n",
    "        ),\n",
    "    ]\n",
    ")\n",
    "\n",
    "fig.update_layout(yaxis_title=\"Income Group\",xaxis_title=\"% Students in Below-Basic Score Category\",\n",
    "    font=dict(\n",
    "        family=\"Arial\",\n",
    "        size=10,\n",
    "        color=\"black\"\n",
    "    ),\n",
    "    autosize=False,\n",
    "    width=500,\n",
    "    height=300,\n",
    "    title=\"% of Students in Below-Basic Score Category in Each Income Group\",\n",
    "    #height=300,\n",
    "    legend_itemclick=False,\n",
    "    paper_bgcolor='white',\n",
    "    plot_bgcolor='white',\n",
    "   xaxis=dict(showgrid=False),\n",
    "   yaxis=dict(showgrid=False)\n",
    ")\n",
    "\n",
    "fig.show()"
   ]
  },
  {
   "cell_type": "code",
   "execution_count": null,
   "id": "1bb1308d",
   "metadata": {},
   "outputs": [],
   "source": []
  },
  {
   "cell_type": "code",
   "execution_count": null,
   "id": "66c27f97",
   "metadata": {},
   "outputs": [],
   "source": []
  },
  {
   "cell_type": "code",
   "execution_count": 25,
   "id": "fb850672",
   "metadata": {},
   "outputs": [],
   "source": []
  },
  {
   "cell_type": "code",
   "execution_count": null,
   "id": "047767a0",
   "metadata": {},
   "outputs": [],
   "source": []
  },
  {
   "cell_type": "markdown",
   "id": "ffeb8675",
   "metadata": {},
   "source": [
    "References\n",
    "1. https://stackoverflow.com/questions/46173419/change-bar-color-according-to-hue-name\n",
    "2. https://www.geeksforgeeks.org/bar-chart-using-plotly-in-python/\n",
    "3. https://stackoverflow.com/questions/42535785/python-plotly-how-to-remove-background-horizontal-line\n",
    "4. https://stackoverflow.com/questions/56712486/how-to-hide-legend-with-plotly-express-and-plotly\n",
    "5. https://python-charts.com/ranking/bar-chart-plotly/\n",
    "6. PreAttentiveFeatures_P1_inclassEx_Grace_Sharon_Sami\n",
    "7. https://stackoverflow.com/questions/71052703/how-to-plot-a-horizontal-stacked-bar-plot-using-plotly-python\n",
    "8. https://plotly.com/python/horizontal-bar-charts/\n",
    "9. https://www.flatuicolorpicker.com/red-rgba-color-model/\n",
    "10. https://plotly.com/python/dumbbell-plots/\n",
    "11. https://stackoverflow.com/questions/47897607/groupby-a-dataframe-into-a-new-dataframe-with-arange-as-index"
   ]
  },
  {
   "cell_type": "code",
   "execution_count": null,
   "id": "4ec5effd",
   "metadata": {},
   "outputs": [],
   "source": []
  },
  {
   "cell_type": "code",
   "execution_count": null,
   "id": "9abe8e3d",
   "metadata": {},
   "outputs": [],
   "source": []
  }
 ],
 "metadata": {
  "kernelspec": {
   "display_name": "Python 3 (ipykernel)",
   "language": "python",
   "name": "python3"
  },
  "language_info": {
   "codemirror_mode": {
    "name": "ipython",
    "version": 3
   },
   "file_extension": ".py",
   "mimetype": "text/x-python",
   "name": "python",
   "nbconvert_exporter": "python",
   "pygments_lexer": "ipython3",
   "version": "3.10.13"
  }
 },
 "nbformat": 4,
 "nbformat_minor": 5
}
